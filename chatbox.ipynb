{
  "nbformat": 4,
  "nbformat_minor": 0,
  "metadata": {
    "colab": {
      "provenance": [],
      "authorship_tag": "ABX9TyOErqYODFPJXpjqImEAeLao"
    },
    "kernelspec": {
      "name": "python3",
      "display_name": "Python 3"
    },
    "language_info": {
      "name": "python"
    }
  },
  "cells": [
    {
      "cell_type": "markdown",
      "source": [
        "Instalação do SDK do Google"
      ],
      "metadata": {
        "id": "YyazDiJ7aRtM"
      }
    },
    {
      "cell_type": "code",
      "execution_count": null,
      "metadata": {
        "id": "lzpp_IvVVXTF"
      },
      "outputs": [],
      "source": [
        "!pip install -q -U google-generativeai"
      ]
    },
    {
      "cell_type": "markdown",
      "source": [
        "Associando Api Key"
      ],
      "metadata": {
        "id": "6Dd4i-yVHI2L"
      }
    },
    {
      "cell_type": "code",
      "source": [
        "import google.generativeai as genai\n",
        "from google.colab import userdata\n",
        "\n",
        "api_key= userdata.get('SECRET_KEY')\n",
        "genai.configure(api_key=api_key)"
      ],
      "metadata": {
        "id": "UKEEE7AZZYaR"
      },
      "execution_count": null,
      "outputs": []
    },
    {
      "cell_type": "markdown",
      "source": [
        "Listando os modelos disponíveis\n"
      ],
      "metadata": {
        "id": "gju2WMhSbEaK"
      }
    },
    {
      "cell_type": "code",
      "source": [
        "for m in genai.list_models():\n",
        "  if 'generateContent' in m.supported_generation_methods:\n",
        "    print(m.name)"
      ],
      "metadata": {
        "colab": {
          "base_uri": "https://localhost:8080/",
          "height": 138
        },
        "id": "YLnOOCVihsZ9",
        "outputId": "2d851516-034d-414c-e6a9-ec0a0269b36e"
      },
      "execution_count": null,
      "outputs": [
        {
          "output_type": "stream",
          "name": "stdout",
          "text": [
            "models/gemini-1.0-pro\n",
            "models/gemini-1.0-pro-001\n",
            "models/gemini-1.0-pro-latest\n",
            "models/gemini-1.0-pro-vision-latest\n",
            "models/gemini-1.5-pro-latest\n",
            "models/gemini-pro\n",
            "models/gemini-pro-vision\n"
          ]
        }
      ]
    },
    {
      "cell_type": "code",
      "source": [
        "generation_config = {\n",
        "    \"candidate_count\": 1,\n",
        "    \"temperature\": 0.5,\n",
        "}"
      ],
      "metadata": {
        "id": "H00yldVGj_e5"
      },
      "execution_count": null,
      "outputs": []
    },
    {
      "cell_type": "markdown",
      "source": [
        "Configurações de segurança"
      ],
      "metadata": {
        "id": "p-MVv8vmkb4X"
      }
    },
    {
      "cell_type": "code",
      "source": [
        "safety_settings = {\n",
        "    \"HARASSMENT\": \"BLOCK_NONE\",\n",
        "    \"HATE\": \"BLOCK_NONE\",\n",
        "    \"SEXUAL\": \"BLOCK_NONE\",\n",
        "    \"DANGEROUS\": \"BLOCK_NONE\",\n",
        "}"
      ],
      "metadata": {
        "id": "-tuqsFqdkbaj"
      },
      "execution_count": null,
      "outputs": []
    },
    {
      "cell_type": "markdown",
      "source": [
        "Inicializando o modelo"
      ],
      "metadata": {
        "id": "vKtdP1vIlpMS"
      }
    },
    {
      "cell_type": "code",
      "source": [
        "model = genai.GenerativeModel(model_name=\"gemini-1.0-pro\",\n",
        "                              generation_config=generation_config,\n",
        "                              safety_settings=safety_settings)"
      ],
      "metadata": {
        "id": "Ma4mmwZols8P"
      },
      "execution_count": null,
      "outputs": []
    },
    {
      "cell_type": "code",
      "source": [
        "response = model.generate_content(\"Vamos aprender conteúdo sobre IA. Me dê sugestões.\")\n",
        "print(response.text)"
      ],
      "metadata": {
        "colab": {
          "base_uri": "https://localhost:8080/",
          "height": 974
        },
        "id": "gQgkR7Y8mbdL",
        "outputId": "bf5cbc68-4335-41d6-9832-1427d26847ae"
      },
      "execution_count": null,
      "outputs": [
        {
          "output_type": "stream",
          "name": "stdout",
          "text": [
            "**Conceitos Fundamentais**\n",
            "\n",
            "* Definição e tipos de Inteligência Artificial (IA)\n",
            "* Aprendizado de Máquina (ML)\n",
            "* Aprendizado Profundo (DL)\n",
            "* Redes Neurais\n",
            "\n",
            "**Técnicas de IA**\n",
            "\n",
            "* Aprendizado Supervisionado\n",
            "* Aprendizado Não Supervisionado\n",
            "* Aprendizado por Reforço\n",
            "* Processamento de Linguagem Natural (PNL)\n",
            "* Visão Computacional\n",
            "\n",
            "**Aplicações da IA**\n",
            "\n",
            "* Automação de processos\n",
            "* Análise preditiva\n",
            "* Reconhecimento de padrões\n",
            "* Tomada de decisão\n",
            "* Geração de conteúdo\n",
            "\n",
            "**Ética e Implicações Sociais da IA**\n",
            "\n",
            "* Preconceito e discriminação\n",
            "* Perda de empregos\n",
            "* Responsabilidade e regulamentação\n",
            "\n",
            "**Recursos de Aprendizagem**\n",
            "\n",
            "**Cursos Online:**\n",
            "\n",
            "* Coursera: Especialização em Inteligência Artificial\n",
            "* edX: Curso de Introdução à Inteligência Artificial\n",
            "* Udemy: Curso Completo de Inteligência Artificial\n",
            "\n",
            "**Livros:**\n",
            "\n",
            "* \"Inteligência Artificial: Uma Abordagem Moderna\" por Stuart Russell e Peter Norvig\n",
            "* \"Aprendizado de Máquina\" por Ethem Alpaydin\n",
            "* \"Aprendizado Profundo\" por Ian Goodfellow, Yoshua Bengio e Aaron Courville\n",
            "\n",
            "**Comunidades e Fóruns:**\n",
            "\n",
            "* Kaggle: Comunidade de ciência de dados e aprendizado de máquina\n",
            "* Stack Overflow: Fórum de perguntas e respostas para programadores\n",
            "* Reddit: Subreddit r/ArtificialIntelligence\n",
            "\n",
            "**Conferências e Eventos:**\n",
            "\n",
            "* Conferência Internacional sobre Inteligência Artificial (IJCAI)\n",
            "* Conferência sobre Sistemas de Processamento de Informação Neural (NeurIPS)\n",
            "* Conferência sobre Aprendizado de Máquina (ICML)\n"
          ]
        }
      ]
    },
    {
      "cell_type": "markdown",
      "source": [
        "Criando chat box"
      ],
      "metadata": {
        "id": "lgJoKEMjnEqP"
      }
    },
    {
      "cell_type": "code",
      "source": [
        "chat = model.start_chat(history=[])"
      ],
      "metadata": {
        "id": "Hnc3zOm2nEGY"
      },
      "execution_count": null,
      "outputs": []
    },
    {
      "cell_type": "code",
      "source": [
        "prompt = input(\"Digite o prompt: \")\n",
        "\n",
        "while prompt != \"fim\":\n",
        "  response = chat.send_message(prompt)\n",
        "  print(\"Resposta: \", response.text, \"\\n\")\n",
        "\n",
        "  prompt = input(\"Digite o prompt: \")\n"
      ],
      "metadata": {
        "colab": {
          "base_uri": "https://localhost:8080/",
          "height": 138
        },
        "id": "cle-ZR0oncof",
        "outputId": "00161d37-6a94-4fcc-8eac-db7db2949138"
      },
      "execution_count": null,
      "outputs": [
        {
          "name": "stdout",
          "output_type": "stream",
          "text": [
            "Digite o prompt: Qual a capital do japão?\n",
            "Resposta:  Tóquio \n",
            "\n",
            "Digite o prompt: Qual é a comida tipica desse país?\n",
            "Resposta:  Sushi \n",
            "\n",
            "Digite o prompt: fim\n"
          ]
        }
      ]
    },
    {
      "cell_type": "code",
      "source": [
        "#Melhorando a visualização\n",
        "#Código disponível em https://ai.google/dev/tutorials/python/quickstart#import_packages\n",
        "import textwrap\n",
        "from IPython.display import display\n",
        "from IPython.display import Markdown\n",
        "\n",
        "def to_markdown(text):\n",
        "  text = text.replace('•', '  *')\n",
        "  return Markdown(textwrap.indent(text, '> ', predicate=lambda _: True))\n",
        "\n",
        "#Imprimindo o histórico:\n",
        "for message in chat.history:\n",
        "  display(to_markdown(f'**{message.role}**: {message.parts[0].text}'))\n",
        "  print('-'*100)"
      ],
      "metadata": {
        "id": "RlGFeZRgsQkf"
      },
      "execution_count": null,
      "outputs": []
    }
  ]
}